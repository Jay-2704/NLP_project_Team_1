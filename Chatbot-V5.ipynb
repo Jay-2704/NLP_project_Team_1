{
 "cells": [
  {
   "cell_type": "code",
   "execution_count": null,
   "id": "499c780e",
   "metadata": {
    "colab": {
     "base_uri": "https://localhost:8080/",
     "height": 383
    },
    "executionInfo": {
     "elapsed": 184,
     "status": "error",
     "timestamp": 1698432323410,
     "user": {
      "displayName": "Jay Paun",
      "userId": "02230944815040819432"
     },
     "user_tz": 240
    },
    "id": "499c780e",
    "outputId": "53a192d4-5a16-4546-ce6b-ae7da4b2fee1"
   },
   "outputs": [],
   "source": [
    "# Load data preprocessing libs\n",
    "import pandas as pd   # dataset\n",
    "import numpy as np  # maths\n",
    "from datetime import datetime,date # date time lib\n",
    "\n",
    "import re\n",
    "from bs4 import BeautifulSoup  # removing html tags\n",
    "\n",
    "# Load vectorizer and similarity measure\n",
    "from sklearn.feature_extraction.text import TfidfVectorizer  # term freq inverse doc. freq.\n",
    "from sklearn.metrics.pairwise import cosine_similarity  # measuring the similarity of text\n",
    "\n",
    "import tkinter   # User interface\n",
    "import threading\n",
    "from tkinter import *\n",
    "from tkinter import messagebox\n",
    "import speech_recognition as speech # taking input through voice\n",
    "import import_ipynb\n",
    "# from mailing import mail"
   ]
  },
  {
   "cell_type": "code",
   "execution_count": null,
   "id": "9310b1f3",
   "metadata": {
    "colab": {
     "base_uri": "https://localhost:8080/",
     "height": 338
    },
    "executionInfo": {
     "elapsed": 13,
     "status": "error",
     "timestamp": 1698432323604,
     "user": {
      "displayName": "Jay Paun",
      "userId": "02230944815040819432"
     },
     "user_tz": 240
    },
    "id": "9310b1f3",
    "outputId": "428ae36a-ab9b-4f8b-f97f-b17d8ff95e7b"
   },
   "outputs": [],
   "source": [
    "# importing the question and answer dataset in separate dataframe.\n",
    "q = pd.read_csv(\"Dataset/Questions.csv\",encoding='latin-1')\n",
    "an = pd.read_csv(\"Dataset/AnswersV2.csv\",encoding='latin-1')"
   ]
  },
  {
   "cell_type": "code",
   "execution_count": null,
   "id": "db9204e4",
   "metadata": {},
   "outputs": [],
   "source": [
    "# No. of question dataset\n",
    "print(len(q.index))"
   ]
  },
  {
   "cell_type": "code",
   "execution_count": null,
   "id": "cd50d5b2",
   "metadata": {
    "executionInfo": {
     "elapsed": 10,
     "status": "aborted",
     "timestamp": 1698432323604,
     "user": {
      "displayName": "Jay Paun",
      "userId": "02230944815040819432"
     },
     "user_tz": 240
    },
    "id": "cd50d5b2"
   },
   "outputs": [],
   "source": [
    "# first five instances of answer.\n",
    "an.head()"
   ]
  },
  {
   "cell_type": "code",
   "execution_count": null,
   "id": "e6294c92",
   "metadata": {
    "executionInfo": {
     "elapsed": 10,
     "status": "aborted",
     "timestamp": 1698432323605,
     "user": {
      "displayName": "Jay Paun",
      "userId": "02230944815040819432"
     },
     "user_tz": 240
    },
    "id": "e6294c92"
   },
   "outputs": [],
   "source": [
    "an.rename(columns={'ParentId':'QId'},inplace=True)\n",
    "an.head()"
   ]
  },
  {
   "cell_type": "code",
   "execution_count": null,
   "id": "3c3a7943",
   "metadata": {
    "executionInfo": {
     "elapsed": 10,
     "status": "aborted",
     "timestamp": 1698432323606,
     "user": {
      "displayName": "Jay Paun",
      "userId": "02230944815040819432"
     },
     "user_tz": 240
    },
    "id": "3c3a7943"
   },
   "outputs": [],
   "source": [
    "q.rename(columns={'Id':'QId'},inplace=True)\n",
    "an.rename(columns={'Id':'AId'},inplace=True)"
   ]
  },
  {
   "cell_type": "code",
   "execution_count": null,
   "id": "fb0c57ac",
   "metadata": {
    "executionInfo": {
     "elapsed": 510,
     "status": "aborted",
     "timestamp": 1698432323606,
     "user": {
      "displayName": "Jay Paun",
      "userId": "02230944815040819432"
     },
     "user_tz": 240
    },
    "id": "fb0c57ac"
   },
   "outputs": [],
   "source": [
    "an = an[an['Score']>5]\n",
    "an.head()"
   ]
  },
  {
   "cell_type": "code",
   "execution_count": null,
   "id": "2105797a",
   "metadata": {
    "executionInfo": {
     "elapsed": 13,
     "status": "aborted",
     "timestamp": 1698432323803,
     "user": {
      "displayName": "Jay Paun",
      "userId": "02230944815040819432"
     },
     "user_tz": 240
    },
    "id": "2105797a"
   },
   "outputs": [],
   "source": [
    "q.head()"
   ]
  },
  {
   "cell_type": "code",
   "execution_count": null,
   "id": "ea1f8452",
   "metadata": {
    "executionInfo": {
     "elapsed": 13,
     "status": "aborted",
     "timestamp": 1698432323803,
     "user": {
      "displayName": "Jay Paun",
      "userId": "02230944815040819432"
     },
     "user_tz": 240
    },
    "id": "ea1f8452"
   },
   "outputs": [],
   "source": [
    "# merging the dataframe on question id.\n",
    "df = q.merge(an, on='QId')\n",
    "df.head()"
   ]
  },
  {
   "cell_type": "code",
   "execution_count": null,
   "id": "56a5a410",
   "metadata": {
    "executionInfo": {
     "elapsed": 13,
     "status": "aborted",
     "timestamp": 1698432323803,
     "user": {
      "displayName": "Jay Paun",
      "userId": "02230944815040819432"
     },
     "user_tz": 240
    },
    "id": "56a5a410"
   },
   "outputs": [],
   "source": [
    "# dropping the irrelevant columns\n",
    "df.drop(columns=['OwnerUserId_x','CreationDate_x','Score_x','OwnerUserId_y','CreationDate_y'],inplace=True)\n",
    "df.head()"
   ]
  },
  {
   "cell_type": "code",
   "execution_count": null,
   "id": "15c46d77",
   "metadata": {
    "executionInfo": {
     "elapsed": 13,
     "status": "aborted",
     "timestamp": 1698432323804,
     "user": {
      "displayName": "Jay Paun",
      "userId": "02230944815040819432"
     },
     "user_tz": 240
    },
    "id": "15c46d77"
   },
   "outputs": [],
   "source": [
    "# renaming columns\n",
    "df.rename(columns={'Body_x':'Question','Body_y':'Answer','Score_y':'Score'},inplace=True)"
   ]
  },
  {
   "cell_type": "code",
   "execution_count": null,
   "id": "b1fa97db",
   "metadata": {
    "executionInfo": {
     "elapsed": 13,
     "status": "aborted",
     "timestamp": 1698432323804,
     "user": {
      "displayName": "Jay Paun",
      "userId": "02230944815040819432"
     },
     "user_tz": 240
    },
    "id": "b1fa97db"
   },
   "outputs": [],
   "source": [
    "df.head()"
   ]
  },
  {
   "cell_type": "code",
   "execution_count": null,
   "id": "7e2bb140",
   "metadata": {
    "executionInfo": {
     "elapsed": 12,
     "status": "aborted",
     "timestamp": 1698432323804,
     "user": {
      "displayName": "Jay Paun",
      "userId": "02230944815040819432"
     },
     "user_tz": 240
    },
    "id": "7e2bb140"
   },
   "outputs": [],
   "source": [
    "# Removing the HTML tags from the Body(Text) to process and give the answer effectively.\n",
    "\n",
    "df['Answer'] = df['Answer'].apply(lambda x:BeautifulSoup(x).get_text())\n",
    "df['Question'] = df['Question'].apply(lambda x:BeautifulSoup(x).get_text())"
   ]
  },
  {
   "cell_type": "code",
   "execution_count": null,
   "id": "d3a5c40b",
   "metadata": {
    "executionInfo": {
     "elapsed": 11,
     "status": "aborted",
     "timestamp": 1698432323804,
     "user": {
      "displayName": "Jay Paun",
      "userId": "02230944815040819432"
     },
     "user_tz": 240
    },
    "id": "d3a5c40b"
   },
   "outputs": [],
   "source": [
    "df.head()"
   ]
  },
  {
   "cell_type": "code",
   "execution_count": null,
   "id": "d01589ab",
   "metadata": {
    "executionInfo": {
     "elapsed": 11,
     "status": "aborted",
     "timestamp": 1698432323804,
     "user": {
      "displayName": "Jay Paun",
      "userId": "02230944815040819432"
     },
     "user_tz": 240
    },
    "id": "d01589ab"
   },
   "outputs": [],
   "source": [
    "# Vectorizing the dataset.\n",
    "\n",
    "vectorizer = TfidfVectorizer()\n",
    "vectorizer.fit(np.concatenate((df.Question, df.Answer)))"
   ]
  },
  {
   "cell_type": "code",
   "execution_count": null,
   "id": "63b5737b",
   "metadata": {
    "executionInfo": {
     "elapsed": 11,
     "status": "aborted",
     "timestamp": 1698432323804,
     "user": {
      "displayName": "Jay Paun",
      "userId": "02230944815040819432"
     },
     "user_tz": 240
    },
    "id": "63b5737b"
   },
   "outputs": [],
   "source": [
    "Question_vectors = vectorizer.transform(df.Question)"
   ]
  },
  {
   "cell_type": "code",
   "execution_count": null,
   "id": "d354b464",
   "metadata": {
    "executionInfo": {
     "elapsed": 11,
     "status": "aborted",
     "timestamp": 1698432323804,
     "user": {
      "displayName": "Jay Paun",
      "userId": "02230944815040819432"
     },
     "user_tz": 240
    },
    "id": "d354b464"
   },
   "outputs": [],
   "source": [
    "# This threshold represents the no of days after which answer score is updated.\n",
    "\n",
    "threshold = 30\n",
    "answer = []"
   ]
  },
  {
   "cell_type": "code",
   "execution_count": null,
   "id": "366f46cc",
   "metadata": {
    "executionInfo": {
     "elapsed": 11,
     "status": "aborted",
     "timestamp": 1698432323805,
     "user": {
      "displayName": "Jay Paun",
      "userId": "02230944815040819432"
     },
     "user_tz": 240
    },
    "id": "366f46cc"
   },
   "outputs": [],
   "source": [
    "# the method to find the answer\n",
    "\n",
    "def getAnswerWithHighestScore(answers):\n",
    "    r = np.argmax(answers['latest_score']-answers['alternate'])\n",
    "    if (datetime.strptime(str(date.today()),\"%Y-%m-%d\")-datetime.strptime(answers['date'].iloc[0],\"%Y-%m-%d\")).days > threshold:\n",
    "        df[df['QId'] == answers['QId'].iloc[0]]['date'] = date.today()\n",
    "        df[df['QId'] == answers['QId'].iloc[0]]['alternate']=df[df['QId'] == answers['QId'].iloc[0]]['latest_score']\n",
    "        an[an['QId'] == answers['QId'].iloc[0]]['date'] = date.today()\n",
    "        an[an['QId'] == answers['QId'].iloc[0]]['alternate']=df[df['QId'] == answers['QId'].iloc[0]]['latest_score']\n",
    "        an.to_csv(\"Dataset/AnswersV2.csv\",index=False)\n",
    "    return [answers.iloc[r]['Answer'],answers.iloc[r]['AId'],answers.iloc[r]['alternate']]"
   ]
  },
  {
   "cell_type": "code",
   "execution_count": null,
   "id": "737213ef",
   "metadata": {
    "executionInfo": {
     "elapsed": 11,
     "status": "aborted",
     "timestamp": 1698432323805,
     "user": {
      "displayName": "Jay Paun",
      "userId": "02230944815040819432"
     },
     "user_tz": 240
    },
    "id": "737213ef"
   },
   "outputs": [],
   "source": [
    "def get_answer(row):\n",
    "    global answer\n",
    "    \n",
    "    qid = df.iloc[row][0]  # question id similar to the question asked by user\n",
    "    answers = df.loc[df['QId'] == qid]\n",
    "    answer = getAnswerWithHighestScore(answers)  # retreive the ans with highest score \n",
    "    return [answer[0],answer[2]]"
   ]
  },
  {
   "cell_type": "code",
   "execution_count": null,
   "id": "93a13b89",
   "metadata": {
    "executionInfo": {
     "elapsed": 9,
     "status": "aborted",
     "timestamp": 1698432323805,
     "user": {
      "displayName": "Jay Paun",
      "userId": "02230944815040819432"
     },
     "user_tz": 240
    },
    "id": "93a13b89"
   },
   "outputs": [],
   "source": [
    "def chatbot_response(msg):\n",
    "    # removing HTML tags from the response\n",
    "    input_question =BeautifulSoup(msg).get_text()\n",
    "\n",
    "    # Locate the closest question\n",
    "    input_question_vector = vectorizer.transform([input_question])\n",
    "\n",
    "    # Compute similarities\n",
    "    similarities = cosine_similarity(input_question_vector, Question_vectors)\n",
    "\n",
    "    # Find the closest question\n",
    "    closest = np.argmax(similarities, axis=1)\n",
    "    a =  get_answer(closest[0])\n",
    "    return [a[0],a[1]]\n",
    "#     return df.Answer.iloc[closest].values[0]"
   ]
  },
  {
   "cell_type": "code",
   "execution_count": null,
   "id": "85503221",
   "metadata": {
    "executionInfo": {
     "elapsed": 9,
     "status": "aborted",
     "timestamp": 1698432323805,
     "user": {
      "displayName": "Jay Paun",
      "userId": "02230944815040819432"
     },
     "user_tz": 240
    },
    "id": "85503221"
   },
   "outputs": [],
   "source": [
    "# defining upvote and downvote button variables\n",
    "\n",
    "global check,upvoted,downvoted\n",
    "check = True\n",
    "upvoted = False\n",
    "downvoted = False"
   ]
  },
  {
   "cell_type": "code",
   "execution_count": null,
   "id": "ead055e3",
   "metadata": {
    "executionInfo": {
     "elapsed": 9,
     "status": "aborted",
     "timestamp": 1698432323805,
     "user": {
      "displayName": "Jay Paun",
      "userId": "02230944815040819432"
     },
     "user_tz": 240
    },
    "id": "ead055e3"
   },
   "outputs": [],
   "source": [
    "def upvote():\n",
    "    global upvoted,downvoted\n",
    "    if not upvoted:\n",
    "        upvoted = True\n",
    "        downvoted = False\n",
    "        r1 = df.index[df['AId'] == answer[1]]\n",
    "        r2 = an.index[df['AId'] == answer[1]]\n",
    "        score = int(df.iloc[r1]['latest_score'].values[0])\n",
    "        score+=1\n",
    "        updateScore(score)\n",
    "        df.loc[r1,'latest_score'] = score\n",
    "        an.loc[r2,'latest_score'] = score\n",
    "        an.to_csv(\"Dataset/AnswersV2.csv\",index=False)\n",
    "        messagebox.showinfo(\"UPVOTE!!!\",\"ANSWER IS UPVOTED\")"
   ]
  },
  {
   "cell_type": "code",
   "execution_count": null,
   "id": "98ee0b2b",
   "metadata": {
    "executionInfo": {
     "elapsed": 8,
     "status": "aborted",
     "timestamp": 1698432323805,
     "user": {
      "displayName": "Jay Paun",
      "userId": "02230944815040819432"
     },
     "user_tz": 240
    },
    "id": "98ee0b2b"
   },
   "outputs": [],
   "source": [
    "def downvote():\n",
    "    global upvoted,downvoted\n",
    "    if not downvoted:\n",
    "        downvoted = True\n",
    "        upvoted = False\n",
    "        r1 = df.index[df['AId'] == answer[1]]\n",
    "        r2 = an.index[df['AId'] == answer[1]]\n",
    "        score = int(df.iloc[r1]['latest_score'].values[0])\n",
    "        score-=1\n",
    "        updateScore(score)\n",
    "#         if(score <0):\n",
    "#             mail(answer[1])\n",
    "        df.loc[r1,'latest_score'] = score\n",
    "        an.loc[r2,'latest_score'] = score\n",
    "        an.to_csv(\"Dataset/AnswersV2.csv\",index=False)\n",
    "        messagebox.showinfo(\"DOWNVOTE!!!\",\"ANSWER IS DOWNVOTED\")"
   ]
  },
  {
   "cell_type": "code",
   "execution_count": null,
   "id": "95c04e1e",
   "metadata": {
    "executionInfo": {
     "elapsed": 8,
     "status": "aborted",
     "timestamp": 1698432323805,
     "user": {
      "displayName": "Jay Paun",
      "userId": "02230944815040819432"
     },
     "user_tz": 240
    },
    "id": "95c04e1e"
   },
   "outputs": [],
   "source": [
    "def updateScore(newScore):\n",
    "    score_text.delete(\"1.0\",END)\n",
    "    score_text.insert(\"1.0\",newScore)"
   ]
  },
  {
   "cell_type": "code",
   "execution_count": null,
   "id": "2a36ba0e",
   "metadata": {
    "executionInfo": {
     "elapsed": 8,
     "status": "aborted",
     "timestamp": 1698432323805,
     "user": {
      "displayName": "Jay Paun",
      "userId": "02230944815040819432"
     },
     "user_tz": 240
    },
    "id": "2a36ba0e"
   },
   "outputs": [],
   "source": [
    "class TrieNode():\n",
    "    def __init__(self):\n",
    "        # Initialising one node for trie\n",
    "        self.children = {}\n",
    "        self.last = False\n",
    "        self.answers=[]\n",
    "\n",
    "\n",
    "class Trie():\n",
    "    def __init__(self):\n",
    "\n",
    "        # Initialising the trie structure.\n",
    "        self.root = TrieNode()\n",
    "        self.answers = []\n",
    "\n",
    "    def insert(self, key):\n",
    "\n",
    "        # Inserts a key into trie if it does not exist already.\n",
    "        # And if the key is a prefix of the trie node, just\n",
    "        # marks it as leaf node.\n",
    "        node = self.root\n",
    "\n",
    "        for a in key:\n",
    "            if not node.children.get(a):\n",
    "                node.children[a] = TrieNode()\n",
    "\n",
    "            node = node.children[a]\n",
    "\n",
    "        node.last = True\n",
    "\n",
    "    def suggestionsRec(self, node, word):\n",
    "\n",
    "        # Method to recursively traverse the trie\n",
    "        # and return a whole word.\n",
    "        if node.last:\n",
    "            self.answers.append(word)\n",
    "\n",
    "        for a, n in node.children.items():\n",
    "            self.suggestionsRec(n, word + a)\n",
    "\n",
    "    def printAutoSuggestions(self, key):\n",
    "\n",
    "        # Returns all the words in the trie whose common\n",
    "        # prefix is the given key thus listing out all\n",
    "        # the suggestions for autocomplete.\n",
    "        node = self.root\n",
    "\n",
    "        for a in key:\n",
    "            # no string in the Trie has this prefix\n",
    "            if not node.children.get(a):\n",
    "                return 0\n",
    "            node = node.children[a]\n",
    "\n",
    "        # If prefix is present as a word, but\n",
    "        # there is no subtree below the last\n",
    "        # matching node.\n",
    "        if not node.children:\n",
    "            return -1\n",
    "\n",
    "        self.suggestionsRec(node, key)\n",
    "        return 1\n",
    "\n",
    "    def getAnswers(self):\n",
    "        return self.answers\n",
    "\n",
    "    def reset(self):\n",
    "        self.answers =[]"
   ]
  },
  {
   "cell_type": "code",
   "execution_count": null,
   "id": "242a8c90",
   "metadata": {
    "executionInfo": {
     "elapsed": 8,
     "status": "aborted",
     "timestamp": 1698432323805,
     "user": {
      "displayName": "Jay Paun",
      "userId": "02230944815040819432"
     },
     "user_tz": 240
    },
    "id": "242a8c90"
   },
   "outputs": [],
   "source": [
    "que= q.Title.tolist()"
   ]
  },
  {
   "cell_type": "code",
   "execution_count": null,
   "id": "d6f472c7",
   "metadata": {
    "executionInfo": {
     "elapsed": 8,
     "status": "aborted",
     "timestamp": 1698432323805,
     "user": {
      "displayName": "Jay Paun",
      "userId": "02230944815040819432"
     },
     "user_tz": 240
    },
    "id": "d6f472c7"
   },
   "outputs": [],
   "source": [
    "ob1 = Trie()\n",
    "for i in range(30000):\n",
    "    ob1.insert(que[i])"
   ]
  },
  {
   "cell_type": "code",
   "execution_count": null,
   "id": "c4a314a7",
   "metadata": {
    "executionInfo": {
     "elapsed": 9,
     "status": "aborted",
     "timestamp": 1698432323806,
     "user": {
      "displayName": "Jay Paun",
      "userId": "02230944815040819432"
     },
     "user_tz": 240
    },
    "id": "c4a314a7"
   },
   "outputs": [],
   "source": [
    "from pynput.keyboard import Key, Listener"
   ]
  },
  {
   "cell_type": "code",
   "execution_count": null,
   "id": "cb622380",
   "metadata": {
    "executionInfo": {
     "elapsed": 9,
     "status": "aborted",
     "timestamp": 1698432323806,
     "user": {
      "displayName": "Jay Paun",
      "userId": "02230944815040819432"
     },
     "user_tz": 240
    },
    "id": "cb622380"
   },
   "outputs": [],
   "source": [
    "anss = []"
   ]
  },
  {
   "cell_type": "code",
   "execution_count": null,
   "id": "60eb1c1e",
   "metadata": {
    "executionInfo": {
     "elapsed": 9,
     "status": "aborted",
     "timestamp": 1698432323806,
     "user": {
      "displayName": "Jay Paun",
      "userId": "02230944815040819432"
     },
     "user_tz": 240
    },
    "id": "60eb1c1e"
   },
   "outputs": [],
   "source": [
    "import functools"
   ]
  },
  {
   "cell_type": "code",
   "execution_count": null,
   "id": "bcd7a0b7",
   "metadata": {
    "executionInfo": {
     "elapsed": 9,
     "status": "aborted",
     "timestamp": 1698432323806,
     "user": {
      "displayName": "Jay Paun",
      "userId": "02230944815040819432"
     },
     "user_tz": 240
    },
    "id": "bcd7a0b7"
   },
   "outputs": [],
   "source": [
    "def autoComplete(text=''):\n",
    "    global anss\n",
    "    ob1.printAutoSuggestions(text)\n",
    "    anss = ob1.getAnswers()\n",
    "    ob1.reset()\n"
   ]
  },
  {
   "cell_type": "code",
   "execution_count": null,
   "id": "6deefa9c",
   "metadata": {
    "executionInfo": {
     "elapsed": 9,
     "status": "aborted",
     "timestamp": 1698432323806,
     "user": {
      "displayName": "Jay Paun",
      "userId": "02230944815040819432"
     },
     "user_tz": 240
    },
    "id": "6deefa9c"
   },
   "outputs": [],
   "source": [
    "def speechToText():\n",
    "    obj = speech.Recognizer()\n",
    "    print(\"PyBot is listening you...\")\n",
    "    with speech.Microphone() as microphone:\n",
    "        try:\n",
    "            print(\"Listening ...\")\n",
    "            audio = obj.listen(microphone)\n",
    "            print(\"Processing the Voice ...\")\n",
    "            query = obj.recognize_google(audio,language = 'eng-in')\n",
    "            print(\"Recognized the Question ...\")\n",
    "            print(query)\n",
    "            EntryBox.delete('1.0',END)\n",
    "            EntryBox.insert('1.0', query)\n",
    "            send()\n",
    "        except Exception as e:\n",
    "            print(e)\n",
    "\n",
    "\n",
    "def send():\n",
    "    global upvoted,downvoted\n",
    "    upvoted = False\n",
    "    downvoted = False\n",
    "    msg = EntryBox.get(\"1.0\",'end-1c').strip()\n",
    "    EntryBox.delete(\"0.0\",END)\n",
    "    if msg != '':\n",
    "        ChatLog.config(state=NORMAL)\n",
    "        ChatLog.insert(END, \"You: \" + msg + '\\n\\n')\n",
    "        ChatLog.config(foreground=\"#442265\", font=(\"Verdana\", 12 ))\n",
    "        res = chatbot_response(msg)\n",
    "        ChatLog.insert(END, \"Bot: \" + res[0] + '\\n\\n')\n",
    "        updateScore(res[1])\n",
    "        ChatLog.config(state=DISABLED)\n",
    "        ChatLog.yview(END)\n",
    "\n",
    "\n",
    "\n",
    "base = Tk()\n",
    "base.title(\"PyBOT\")\n",
    "base.geometry(\"600x650\")\n",
    "base.resizable(width=FALSE, height=FALSE)\n",
    "# base.withdraw()\n",
    "# def popup(vote):\n",
    "#     messagebox.showinfo(\"Alert\",\"Answer was \"+vote)\n",
    "\n",
    "def sp():\n",
    "    thread = threading.Thread(target=speechToText())\n",
    "    thread.start()\n",
    "\n",
    "score_text = Text(base,bg=\"white\")\n",
    "upvote = Button(base, text=\"UPVOTE\", fg=\"black\",bg=\"white\",command=upvote)\n",
    "upvote.place(x=30, y=300, height=40, width=90)\n",
    "\n",
    "downvote = Button(base, text=\"DOWNVOTE\", fg=\"black\",bg=\"white\",command=downvote)\n",
    "downvote.place(x=180, y=300, height=40, width=90)\n",
    "\n",
    "speechButton = Button(base, text=\"Mic\", fg=\"black\",bg=\"white\",command=sp)\n",
    "speechButton.place(x=350, y=300, height=40, width=50)\n",
    "score_text.place(x=500,y=300, height=40,width=40)\n",
    "\n",
    "ChatLog = Text(base, bd=0, bg=\"white\", height=\"8\", width=\"50\", font=\"Arial\")\n",
    "ChatLog.config(state=DISABLED)\n",
    "\n",
    "scrollbar = Scrollbar(base, command=ChatLog.yview, cursor=\"heart\")\n",
    "ChatLog['yscrollcommand'] = scrollbar.set\n",
    "\n",
    "SendButton = Button(base, font=(\"Verdana\",12,'bold'), text=\"Send\", width=\"12\", height=5,\n",
    "                    bd=0, bg=\"#32de97\", activebackground=\"#3c9d9b\",fg='#ffffff',\n",
    "                    command= send )\n",
    "\n",
    "EntryBox = Text(base, bd=0, bg=\"white\",width=\"29\", height=\"5\", font=\"Arial\")\n",
    "\n",
    "ListBox = Listbox(base, bg=\"white\",width=\"29\", height=\"5\", font=\"Arial\")\n",
    "\n",
    "scrollbar.place(x=575,y=6, height=280)\n",
    "ChatLog.place(x=6,y=6, height=280, width=800)\n",
    "EntryBox.place(x=128, y=380, height=120, width=500)\n",
    "SendButton.place(x=6, y=380, height=120)\n",
    "ListBox.place(x=6, y=520, height=100,width = 600)\n",
    "\n",
    "def update(data):\n",
    "\t# Clear the listbox\n",
    "\tListBox.delete(0, END)\n",
    "\n",
    "\tfor item in data:\n",
    "\t\tListBox.insert(END, item)\n",
    "\n",
    "# Update entry box with listbox clicked\n",
    "def populate(e):\n",
    "\t# Delete whatever is in the entry box\n",
    "\tEntryBox.delete(\"1.0\", END)\n",
    "\n",
    "\t# Add clicked list item to entry box\n",
    "\tEntryBox.insert(\"1.0\", ListBox.get(ANCHOR))\n",
    "\n",
    "def getCompleted(event):\n",
    "    msg = EntryBox.get(\"1.0\",'end-1c').strip()\n",
    "\n",
    "    autoComplete(msg)\n",
    "    update(anss[:5])\n",
    "\n",
    "ListBox.bind(\"<<ListboxSelect>>\", populate)\n",
    "base.bind(\"<Key>\",getCompleted)\n",
    "base.mainloop()"
   ]
  },
  {
   "cell_type": "code",
   "execution_count": null,
   "id": "92cdef18",
   "metadata": {},
   "outputs": [],
   "source": []
  },
  {
   "cell_type": "code",
   "execution_count": null,
   "id": "257abbd0",
   "metadata": {},
   "outputs": [],
   "source": []
  }
 ],
 "metadata": {
  "colab": {
   "provenance": []
  },
  "kernelspec": {
   "display_name": "Python 3 (ipykernel)",
   "language": "python",
   "name": "python3"
  },
  "language_info": {
   "codemirror_mode": {
    "name": "ipython",
    "version": 3
   },
   "file_extension": ".py",
   "mimetype": "text/x-python",
   "name": "python",
   "nbconvert_exporter": "python",
   "pygments_lexer": "ipython3",
   "version": "3.12.3"
  }
 },
 "nbformat": 4,
 "nbformat_minor": 5
}
